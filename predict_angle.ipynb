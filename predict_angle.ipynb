{
  "nbformat": 4,
  "nbformat_minor": 0,
  "metadata": {
    "colab": {
      "provenance": []
    },
    "kernelspec": {
      "name": "python3",
      "display_name": "Python 3"
    },
    "language_info": {
      "name": "python"
    }
  },
  "cells": [
    {
      "cell_type": "code",
      "execution_count": 3,
      "metadata": {
        "colab": {
          "base_uri": "https://localhost:8080/"
        },
        "id": "5tCvuvc5zFTJ",
        "outputId": "69ede08d-a3a2-482d-bf0d-5b6380746696"
      },
      "outputs": [
        {
          "output_type": "stream",
          "name": "stdout",
          "text": [
            "\u001b[1m1/1\u001b[0m \u001b[32m━━━━━━━━━━━━━━━━━━━━\u001b[0m\u001b[37m\u001b[0m \u001b[1m0s\u001b[0m 257ms/step\n",
            "The predicted angle for the image is: 0.37 degrees\n"
          ]
        }
      ],
      "source": [
        "import numpy as np\n",
        "import tensorflow as tf\n",
        "from tensorflow.keras import layers, models, optimizers\n",
        "from tensorflow.keras.preprocessing import image\n",
        "\n",
        "# Define the image dimensions used during training.\n",
        "# You MUST set these to the correct values for your model.\n",
        "IMG_HEIGHT = 224\n",
        "IMG_WIDTH = 224\n",
        "\n",
        "def build_custom_cnn(input_shape=(IMG_HEIGHT, IMG_WIDTH, 3)):\n",
        "    \"\"\"\n",
        "    Rebuilds the exact CNN model architecture used for training.\n",
        "    This is necessary to load the weights correctly.\n",
        "    \"\"\"\n",
        "    model = models.Sequential([\n",
        "        layers.Conv2D(32, (3, 3), activation='relu', input_shape=input_shape),\n",
        "        layers.MaxPooling2D((2, 2)),\n",
        "        layers.Conv2D(32, (3, 3), activation='relu'),\n",
        "        layers.MaxPooling2D((2, 2)),\n",
        "        layers.Conv2D(64, (3, 3), activation='relu'),\n",
        "        layers.MaxPooling2D((2, 2)),\n",
        "        layers.Flatten(),\n",
        "        layers.Dense(64, activation='relu'),\n",
        "        layers.Dense(2, activation='linear')  # Output 2 values: cos and sin\n",
        "    ])\n",
        "    return model\n",
        "\n",
        "def predict_angle(img_path):\n",
        "    \"\"\"\n",
        "    Loads a pre-trained model and uses it to predict the angle of a new image.\n",
        "\n",
        "    Args:\n",
        "        img_path (str): The file path to the image you want to predict.\n",
        "\n",
        "    Returns:\n",
        "        float: The predicted angle in degrees.\n",
        "    \"\"\"\n",
        "    # Build the model architecture first\n",
        "    model = build_custom_cnn(input_shape=(IMG_HEIGHT, IMG_WIDTH, 3))\n",
        "\n",
        "    # Load the saved weights into the model\n",
        "    try:\n",
        "        model.load_weights(\"/cossin.h5\")\n",
        "    except Exception as e:\n",
        "        print(f\"Error loading weights: {e}\")\n",
        "        return None\n",
        "\n",
        "    # Load the image and preprocess it\n",
        "    try:\n",
        "        img = image.load_img(img_path, target_size=(IMG_HEIGHT, IMG_WIDTH))\n",
        "        img_array = image.img_to_array(img)\n",
        "\n",
        "        # It is crucial to normalize the image in the same way it was normalized during training.\n",
        "        # This example assumes pixel values were scaled to a [0, 1] range.\n",
        "        img_array = img_array / 255.0\n",
        "\n",
        "        # Expand dimensions to create a batch of 1\n",
        "        img_array = np.expand_dims(img_array, axis=0)\n",
        "    except Exception as e:\n",
        "        print(f\"Error loading or preprocessing image: {e}\")\n",
        "        return None\n",
        "\n",
        "    # Make a prediction with the model\n",
        "    prediction = model.predict(img_array)\n",
        "    cos_pred, sin_pred = prediction[0]\n",
        "\n",
        "    # Use arctan2 to get the angle in radians. It handles all four quadrants.\n",
        "    angle_rad = np.arctan2(sin_pred, cos_pred)\n",
        "\n",
        "    # Convert the angle to degrees\n",
        "    angle_deg = np.rad2deg(angle_rad)\n",
        "\n",
        "    # Normalize the angle to be within [0, 360) degrees\n",
        "    angle_deg = (angle_deg + 360) % 360\n",
        "\n",
        "    return angle_deg\n",
        "\n",
        "# --- Example Usage ---\n",
        "# Replace 'path/to/your/image.jpg' with a real image file path\n",
        "test_image_path = \"/6887a97e1c95c1200fdf0542.png\"\n",
        "predicted_angle = predict_angle(test_image_path)\n",
        "\n",
        "if predicted_angle is not None:\n",
        "    print(f\"The predicted angle for the image is: {predicted_angle:.2f} degrees\")\n"
      ]
    }
  ]
}